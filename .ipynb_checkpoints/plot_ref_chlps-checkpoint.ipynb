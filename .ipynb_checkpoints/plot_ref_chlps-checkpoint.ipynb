{
 "cells": [
  {
   "cell_type": "code",
   "execution_count": null,
   "metadata": {
    "scrolled": false
   },
   "outputs": [],
   "source": [
    "import os\n",
    "import pandas as pd\n",
    "import numpy as np\n",
    "import matplotlib\n",
    "import matplotlib.pyplot as plt\n",
    "from statannotations.Annotator import Annotator\n",
    "import json\n",
    "import seaborn as sns\n",
    "from scipy.stats import wilcoxon\n",
    "\n",
    "\n",
    "\n",
    "conditions = {\n",
    "    \"fimo\": {\n",
    "        \"fimo_0.0001_1000\": \"FIMO 4 1kb\",\n",
    "        \"fimo_0.0001_3000\": \"FIMO 4 3kb\",\n",
    "        \n",
    "\n",
    "    }\n",
    "}\n",
    "working_folder = \"data/chlpcomparation/\"\n",
    "\n",
    "\n",
    "def rankPositionCalc(lenghtResult, tfRanking):\n",
    "\n",
    "    return 1 - (tfRanking / lenghtResult)\n",
    "\n",
    "\n",
    "def getpositions(parameters, tf):\n",
    "    resultdf = pd.read_csv(working_folder + parameters)\n",
    "    #     resultdf = resultdf.drop(resultdf[resultdf.SScore < score].index)\n",
    "    resultdf = resultdf.sort_values(by=[\"SScore\"], ascending=False, ignore_index=True)\n",
    "    lenghtResult = len(resultdf.index)\n",
    "\n",
    "    firsOfFamilyDone = False\n",
    "    tfRankingDone = False\n",
    "    for index, id in resultdf.iterrows():\n",
    "        if not tfRankingDone and id.tf.strip() == tf:\n",
    "#             print(id.tf.strip(), id.tffamily.strip())\n",
    "            tfRanking = index\n",
    "            tfRankingDone = True\n",
    "            #             print(tf, tfRanking)\n",
    "            rankposition = rankPositionCalc(lenghtResult, tfRanking)\n",
    "            break\n",
    "\n",
    "    #         if not firsOfFamilyDone and id.tffamily.strip() == 'AP2-ANT':\n",
    "    #             firsOfFamily = index\n",
    "    #             firsOfFamilyDone = True\n",
    "\n",
    "    if not tfRankingDone:\n",
    "        tfRanking = None\n",
    "        rankposition = 0\n",
    "    #     if not firsOfFamilyDone:\n",
    "    #         firsOfFamily = None\n",
    "    return rankposition\n",
    "\n",
    "def performCurve(exp, similars):\n",
    "    ##################\n",
    "    # Define the name of the case you want to study acording to file names\n",
    "    with open(\"data/tfnames_andChlp.json\") as fp:\n",
    "        tfNames = json.load(fp)[\"tfs\"]\n",
    "\n",
    "    parameters = exp\n",
    "    case =\"0Negatives\"\n",
    "    ###############\n",
    "    plotScores = {'ChlP': {},'TDTHub': {}}\n",
    "    \n",
    "    rankingScores = []\n",
    "    for tf in tfNames:\n",
    "        plotScores['ChlP'][tf[\"name\"]] = []\n",
    "        plotScores['TDTHub'][tf[\"name\"]] = []\n",
    "        for replicate in range(1,11):\n",
    "            if tf[\"name\"] == \"HSF1b-NS\" or tf[\"name\"] == \"PIF1\" :\n",
    "                continue\n",
    "            allPosibleScoresInvitro = []\n",
    "            allPosibleScoresChlp = []\n",
    "            experimentName = \"{}/Arabidopsis_thaliana_{}Athaliana{}{}_{}.csv\".format(\n",
    "                tf[\"name\"],str(replicate),tf[\"name\"], case, parameters\n",
    "            )\n",
    "\n",
    "            if len(tf[\"dataBaseNames\"]) > 0 and len(tf[\"chlpname\"]) > 0:\n",
    "\n",
    "                for name in tf[\"dataBaseNames\"]:\n",
    "                    allPosibleScoresInvitro.append(getpositions(experimentName, name))\n",
    "\n",
    "                for name in tf[\"chlpname\"]:\n",
    "                    allPosibleScoresChlp.append(getpositions(experimentName, name))\n",
    "\n",
    "\n",
    "            if len(tf[\"dataBaseSimilarsNames\"]) > 0 and similars:\n",
    "                for name in tf[\"dataBaseSimilarsNames\"]:\n",
    "                    allPosibleScores.append(getpositions(experimentName, name))\n",
    "\n",
    "            if len(allPosibleScoresChlp) != 0 and len(allPosibleScoresInvitro) != 0:\n",
    "                plotScores['TDTHub'][tf[\"name\"]].append(max(allPosibleScoresInvitro))\n",
    "                plotScores['ChlP'][tf[\"name\"]].append(max(allPosibleScoresChlp))\n",
    "   \n",
    "    return plotScores\n",
    "diferentConditions = []\n",
    "wilcoxResults = []\n",
    "for conditionGroup in conditions:\n",
    "    matplotlib.rcParams.update({'font.size': 14})\n",
    "\n",
    "    matplotlib.rcParams.update({'font.size': 13})\n",
    "    print(conditionGroup)\n",
    "    for condition in conditions[conditionGroup]:\n",
    "        print(condition)\n",
    "\n",
    "        representationRanking = performCurve(\n",
    "            condition, False\n",
    "        ) #true similars yes false no\n",
    "#         print(representationRanking)\n",
    "#         for aproach in representationRanking:\n",
    "#             for tf in representationRanking[aproach]:\n",
    "#                 print(aproach, tf, np.std(representationRanking[aproach][tf]))\n",
    "        wilcoxValues = {}\n",
    "        for aproach in representationRanking:\n",
    "            wilcoxValues[aproach] = []\n",
    "            for tf in representationRanking[aproach]:\n",
    "                if len(representationRanking[aproach][tf]) != 10:\n",
    "                    continue\n",
    "                x = np.mean(representationRanking[aproach][tf])\n",
    "                wilcoxValues[aproach].append(x)\n",
    "                diferentConditions.append((conditions[conditionGroup][condition],aproach,x))\n",
    "        w, p = wilcoxon(wilcoxValues['TDTHub'],wilcoxValues['ChlP'])\n",
    "        wilcoxResults.append((conditions[conditionGroup][condition], w, p))\n",
    "        \n",
    "        "
   ]
  },
  {
   "cell_type": "code",
   "execution_count": null,
   "metadata": {},
   "outputs": [],
   "source": [
    "dataFrameFinal = pd.DataFrame.from_records(diferentConditions, columns=[\"Parameters\", \"PWMs\",\"1-Ranking\"])"
   ]
  },
  {
   "cell_type": "code",
   "execution_count": null,
   "metadata": {},
   "outputs": [],
   "source": [
    "dataFrameFinal.to_csv('elfile.csv', index=False)"
   ]
  },
  {
   "cell_type": "code",
   "execution_count": null,
   "metadata": {},
   "outputs": [],
   "source": [
    "sns.boxplot(**hue_plot_params)"
   ]
  },
  {
   "cell_type": "code",
   "execution_count": 10,
   "metadata": {},
   "outputs": [
    {
     "name": "stdout",
     "output_type": "stream",
     "text": [
      "FIMO 4 3kb_ChlP vs. FIMO 4 3kb_TDTHub: Wilcoxon test (paired samples), P_val:3.015e-02 Stat=1.950e+02\n",
      "FIMO 4 1kb_ChlP vs. FIMO 4 1kb_TDTHub: Wilcoxon test (paired samples), P_val:5.166e-03 Stat=1.550e+02\n"
     ]
    },
    {
     "data": {
      "image/png": "[encoded data removed]",
      "text/plain": [
       "<Figure size 288x216 with 1 Axes>"
      ]
     },
     "metadata": {},
     "output_type": "display_data"
    }
   ],
   "source": [
    "import os\n",
    "import pandas as pd\n",
    "import matplotlib.pyplot as plt\n",
    "from statannotations.Annotator import Annotator\n",
    "import seaborn as sns\n",
    "sns.set_theme(style=\"ticks\", palette=\"pastel\")\n",
    "\n",
    "dataFrameFinal = pd.read_csv('elfile.csv')\n",
    "\n",
    "# plt.style.use('ggplot')\n",
    "# sns.color_palette(\"YlGnBu\", n_colors=5)\n",
    "hue_plot_params = {\n",
    "    'data':dataFrameFinal,\n",
    "    'x':'Parameters', \n",
    "    'y':'1-Ranking',\n",
    "    \"hue\":\"PWMs\"\n",
    "    }\n",
    "sns.set(rc={'figure.figsize':(4,3)})\n",
    "ax = sns.boxplot(**hue_plot_params,flierprops={\"marker\":'o', \"markersize\":4})\n",
    "\n",
    "pairs = [\n",
    "    ((\"FIMO 4 1kb\", \"ChlP\"), (\"FIMO 4 1kb\", \"TDTHub\")),\n",
    "    ((\"FIMO 4 3kb\", \"ChlP\"), (\"FIMO 4 3kb\", \"TDTHub\"))\n",
    "]\n",
    "\n",
    "annotator = Annotator(ax, pairs, data=dataFrameFinal, x='Parameters', y='1-Ranking',hue=\"PWMs\")\n",
    "annotator.configure(test='Wilcoxon', text_format='full', show_test_name=False, loc='outside') # text_format='star', loc='outside'\n",
    "annotator.apply_and_annotate()\n",
    "\n",
    "plt.legend(bbox_to_anchor=(1.05, 1), prop={\"size\": 12}, handlelength=0.7, labelspacing=0.3)\n",
    "\n",
    "sns.despine(offset=10, trim=True)\n",
    "plt.savefig('lcooo2.png',\n",
    "        dpi=300,\n",
    "        bbox_inches=\"tight\",\n",
    "        )\n",
    "# add_stat_annotation(ax, data=df, x=x, y=y, hue=hue,\n",
    "#                     box_pairs=[((\"Thur\", \"No\"), (\"Fri\", \"No\")),\n",
    "#                                  ((\"Sat\", \"Yes\"), (\"Sat\", \"No\")),\n",
    "#                                  ((\"Sun\", \"No\"), (\"Thur\", \"Yes\"))\n",
    "#                                 ],\n",
    "#                     test='t-test_ind', text_format='full', loc='inside', verbose=2)\n",
    "    \n",
    "    \n",
    "#     ax.bar_label(container)\n",
    "\n",
    "\n"
   ]
  },
  {
   "cell_type": "code",
   "execution_count": 20,
   "metadata": {},
   "outputs": [
    {
     "name": "stdout",
     "output_type": "stream",
     "text": [
      "FIMO 4 3kb_ChlP vs. FIMO 4 3kb_TDTHub: Wilcoxon test (paired samples), P_val:3.015e-02 Stat=1.950e+02\n",
      "FIMO 4 1kb_ChlP vs. FIMO 4 1kb_TDTHub: Wilcoxon test (paired samples), P_val:5.166e-03 Stat=1.550e+02\n"
     ]
    },
    {
     "data": {
      "image/png": "[encoded data removed]",
      "text/plain": [
       "<Figure size 252x216 with 1 Axes>"
      ]
     },
     "metadata": {},
     "output_type": "display_data"
    }
   ],
   "source": [
    "import os\n",
    "import pandas as pd\n",
    "import matplotlib.pyplot as plt\n",
    "from statannotations.Annotator import Annotator\n",
    "import seaborn as sns\n",
    "sns.set_theme(style=\"ticks\", palette=\"bright\")\n",
    "sns.set_context(rc={\"lines.linewidth\":0.75})\n",
    "# sns.set(rc={'figure.figsize':(3.5,3), \"lines.linewidth\":0.7})\n",
    "dataFrameFinal = pd.read_csv('elfile.csv')\n",
    "hue_plot_params = {\n",
    "    'data':dataFrameFinal,\n",
    "    'x':'Parameters', \n",
    "    'y':'1-Ranking',\n",
    "    \"hue\":\"PWMs\"\n",
    "    }\n",
    "\n",
    "\n",
    "\n",
    "with sns.axes_style(\"ticks\"):\n",
    "    ax = sns.boxplot(**hue_plot_params,flierprops={\"marker\":'o', \"markersize\":2},  palette=[\"y\", \"b\"])\n",
    "\n",
    "pairs = [\n",
    "    ((\"FIMO 4 1kb\", \"ChlP\"), (\"FIMO 4 1kb\", \"TDTHub\")),\n",
    "    ((\"FIMO 4 3kb\", \"ChlP\"), (\"FIMO 4 3kb\", \"TDTHub\"))\n",
    "]\n",
    "\n",
    "annotator = Annotator(ax, pairs, data=dataFrameFinal, x='Parameters', y='1-Ranking',hue=\"PWMs\")\n",
    "annotator.configure(test='Wilcoxon', text_format='full', line_width=0.75, show_test_name=False, loc='outside') # text_format='star', loc='outside'\n",
    "annotator.apply_and_annotate()\n",
    "plt.legend(bbox_to_anchor=(1.05, 1), prop={\"size\": 12}, handlelength=0.7, labelspacing=0.3, frameon=False)\n",
    "sns.despine(offset=10, trim=True)\n",
    "plt.savefig('elbuenoFinal.png',\n",
    "        dpi=300,\n",
    "        bbox_inches=\"tight\",\n",
    "        )"
   ]
  },
  {
   "cell_type": "code",
   "execution_count": 8,
   "metadata": {},
   "outputs": [
    {
     "data": {
      "image/png": "[encoded data removed]",
      "text/plain": [
       "<Figure size 252x216 with 1 Axes>"
      ]
     },
     "metadata": {},
     "output_type": "display_data"
    }
   ],
   "source": [
    "\n",
    "import seaborn as sns\n",
    "sns.set_theme(style=\"ticks\", palette=\"pastel\")\n",
    "sns.set(rc={'figure.figsize':(3.5,3), \"lines.linewidth\":0.7})\n",
    "\n",
    "# Load the example tips dataset\n",
    "tips = sns.load_dataset(\"tips\")\n",
    "with sns.axes_style(\"whitegrid\"):\n",
    "    # Draw a nested boxplot to show bills by day and time\n",
    "    sns.boxplot(x=\"day\", y=\"total_bill\",\n",
    "                hue=\"smoker\", palette=[\"m\", \"g\"],\n",
    "                data=tips)\n",
    "    sns.despine(offset=10, trim=True)\n",
    "\n"
   ]
  }
 ],
 "metadata": {
  "kernelspec": {
   "display_name": "Python 3 (ipykernel)",
   "language": "python",
   "name": "python3"
  },
  "language_info": {
   "codemirror_mode": {
    "name": "ipython",
    "version": 3
   },
   "file_extension": ".py",
   "mimetype": "text/x-python",
   "name": "python",
   "nbconvert_exporter": "python",
   "pygments_lexer": "ipython3",
   "version": "3.9.12"
  }
 },
 "nbformat": 4,
 "nbformat_minor": 4
}
